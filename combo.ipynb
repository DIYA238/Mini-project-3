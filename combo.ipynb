{
  "nbformat": 4,
  "nbformat_minor": 0,
  "metadata": {
    "colab": {
      "provenance": [],
      "authorship_tag": "ABX9TyOc2AipgeLBypF7T1o4Fd67",
      "include_colab_link": true
    },
    "kernelspec": {
      "name": "python3",
      "display_name": "Python 3"
    },
    "language_info": {
      "name": "python"
    }
  },
  "cells": [
    {
      "cell_type": "markdown",
      "metadata": {
        "id": "view-in-github",
        "colab_type": "text"
      },
      "source": [
        "<a href=\"https://colab.research.google.com/github/DIYA238/Mini-project-3/blob/main/combo.ipynb\" target=\"_parent\"><img src=\"https://colab.research.google.com/assets/colab-badge.svg\" alt=\"Open In Colab\"/></a>"
      ]
    },
    {
      "cell_type": "markdown",
      "source": [
        "ComboFinder\n",
        "\n",
        "Problem Statement:\n",
        "\n",
        "Find all the list of products whose sum-of-price is between 290 and 310.\n",
        "\n",
        "ProductList = {p1:10, p2:15, p3:20, p4:25, p5:30, p6:35, p7:50}"
      ],
      "metadata": {
        "id": "HvNrNFWxinkK"
      }
    },
    {
      "cell_type": "code",
      "source": [
        "import random as r\n",
        "\n",
        "ProductList = {'p1':10, 'p2':15, 'p3':20, 'p4':25, 'p5':30, 'p6':35, 'p7':50}\n",
        "LB = 290\n",
        "UB = 310\n",
        "ResultList = set()\n",
        "\n",
        "for i in range(10000):\n",
        "    SetSize = r.randint(2, len(ProductList) - 1)\n",
        "    ComboList = r.sample(list(ProductList.keys()), SetSize)\n",
        "    Combo = sum(ProductList[item] for item in ComboList)\n",
        "\n",
        "    if LB <= Combo <= UB:\n",
        "        ResultList.add(sorted(ComboList))\n",
        "\n",
        "for rset in ResultList:\n",
        "    print(rset)\n",
        "print(\"\\nTotal Sets: \", len(ResultList), \"\\n\")\n"
      ],
      "metadata": {
        "colab": {
          "base_uri": "https://localhost:8080/"
        },
        "id": "Yk2HsTw0t2Nf",
        "outputId": "28e9135b-c27c-40d2-f3af-149bdff2ad47"
      },
      "execution_count": 29,
      "outputs": [
        {
          "output_type": "stream",
          "name": "stdout",
          "text": [
            "\n",
            "Total Sets:  0 \n",
            "\n"
          ]
        }
      ]
    }
  ]
}